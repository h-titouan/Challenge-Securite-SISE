{
 "cells": [
  {
   "cell_type": "code",
   "execution_count": 1,
   "metadata": {},
   "outputs": [],
   "source": [
    "import pandas as pd\n",
    "import re\n",
    "\n",
    "# Charger le fichier de log dans un DataFrame\n",
    "df = pd.read_csv('/Users/titouanhoude/Downloads/challenge-2023/données/brut.log', sep='\\t', header=None)\n",
    "data = df"
   ]
  },
  {
   "cell_type": "code",
   "execution_count": 2,
   "metadata": {},
   "outputs": [],
   "source": [
    "dataframe = df[0].str[:15]\n",
    "dataframe = pd.DataFrame(dataframe)\n",
    "dataframe.set_axis(['Date'], axis=1)\n",
    "\n",
    "dataframe['IPDest'] = df[0].str[16:27]"
   ]
  },
  {
   "cell_type": "code",
   "execution_count": 3,
   "metadata": {},
   "outputs": [],
   "source": [
    "data[0] = data[0].str[28:]"
   ]
  },
  {
   "cell_type": "code",
   "execution_count": 4,
   "metadata": {},
   "outputs": [],
   "source": [
    "dataframe[['kernel', 'reste']] = data[0].str.split(']', n=1, expand=True)"
   ]
  },
  {
   "cell_type": "code",
   "execution_count": 9,
   "metadata": {},
   "outputs": [],
   "source": [
    "debut = dataframe[[0, 'IPDest', 'kernel']]"
   ]
  },
  {
   "cell_type": "code",
   "execution_count": 85,
   "metadata": {},
   "outputs": [],
   "source": [
    "dataframe['reste'] = dataframe['reste'].apply(lambda x: re.sub(r'\\bDF \\b', '', x))"
   ]
  },
  {
   "cell_type": "code",
   "execution_count": 86,
   "metadata": {},
   "outputs": [],
   "source": [
    "dataframe = dataframe[\"reste\"].str.split(' ', expand=True)"
   ]
  },
  {
   "cell_type": "code",
   "execution_count": 16,
   "metadata": {},
   "outputs": [],
   "source": [
    "data = data.drop([\"0\",\"21\", \"22\", \"23\"], axis = 1)"
   ]
  },
  {
   "cell_type": "code",
   "execution_count": 46,
   "metadata": {},
   "outputs": [],
   "source": [
    "dataframe = pd.concat([debut, data], axis=1)"
   ]
  },
  {
   "cell_type": "code",
   "execution_count": 48,
   "metadata": {},
   "outputs": [],
   "source": [
    "dataframe.columns = ['Date', 'IPDest', 'kernel', 'Decision', 'FW', \"RULE\", \"IN\", \"OUT\", \"MAC\",\"SRC\", \"DST\", \"LEN\", \"TOS\", \"PREC\", \"TTL\", \"ID\", \"PROTO\", \"SPT\", \"DPT\", \"WINDOW\", \"RES\", \"TCP\", \"URGP\"]"
   ]
  },
  {
   "attachments": {},
   "cell_type": "markdown",
   "metadata": {},
   "source": [
    "Faire une sauvegarde"
   ]
  },
  {
   "cell_type": "code",
   "execution_count": 50,
   "metadata": {},
   "outputs": [],
   "source": [
    "dataframe.to_csv(\"logs_brut.csv\", sep = \";\", index_label=False, header = True)"
   ]
  },
  {
   "cell_type": "code",
   "execution_count": 51,
   "metadata": {},
   "outputs": [],
   "source": [
    "dataframe.to_parquet('logs_bruts.parquet.gzip', compression='gzip')  "
   ]
  },
  {
   "attachments": {},
   "cell_type": "markdown",
   "metadata": {},
   "source": [
    "Extraire le dataframe final à partir de la sauvegarde"
   ]
  },
  {
   "cell_type": "code",
   "execution_count": null,
   "metadata": {},
   "outputs": [],
   "source": [
    "import pandas as pd\n",
    "df = pd.read_csv('/Users/titouanhoude/Desktop/logs_brut.csv', sep=';')"
   ]
  },
  {
   "cell_type": "code",
   "execution_count": null,
   "metadata": {},
   "outputs": [],
   "source": [
    "data = df[[\"Date\", \"SRC\", \"DST\", \"DPT\", \"PROTO\", \"Decision\", \"ID\"]]\n",
    "\n",
    "data['SRC'] = data['SRC'].astype(str).apply(lambda x: x.replace('SRC=', ''))\n",
    "data['DST'] = data['DST'].astype(str).apply(lambda x: x.replace('DST=', ''))\n",
    "data['DPT'] = data['DPT'].astype(str).apply(lambda x: x.replace('DPT=', ''))\n",
    "data['PROTO'] = data['PROTO'].astype(str).apply(lambda x: x.replace('PROTO=', ''))\n",
    "data['ID'] = data['ID'].astype(str).apply(lambda x: x.replace('ID=', ''))\n",
    "\n",
    "data.columns = [\"date\", \"ipsrc\", \"ipdst\", \"port\", \"proto\", 'action', \"policyid\"]\n",
    "\n",
    "data.to_csv(\"data_logs.csv\", sep = \";\", index_label=False, header=True)\n",
    "data.to_parquet('data_logs.parquet.gzip', compression='gzip')  "
   ]
  }
 ],
 "metadata": {
  "kernelspec": {
   "display_name": "Python 3",
   "language": "python",
   "name": "python3"
  },
  "language_info": {
   "codemirror_mode": {
    "name": "ipython",
    "version": 3
   },
   "file_extension": ".py",
   "mimetype": "text/x-python",
   "name": "python",
   "nbconvert_exporter": "python",
   "pygments_lexer": "ipython3",
   "version": "3.10.10 (v3.10.10:aad5f6a891, Feb  7 2023, 08:47:40) [Clang 13.0.0 (clang-1300.0.29.30)]"
  },
  "orig_nbformat": 4,
  "vscode": {
   "interpreter": {
    "hash": "aee8b7b246df8f9039afb4144a1f6fd8d2ca17a180786b69acc140d282b71a49"
   }
  }
 },
 "nbformat": 4,
 "nbformat_minor": 2
}
