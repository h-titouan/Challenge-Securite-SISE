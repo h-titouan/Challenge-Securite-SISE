{
 "cells": [
  {
   "cell_type": "code",
   "execution_count": 1,
   "metadata": {},
   "outputs": [
    {
     "name": "stdout",
     "output_type": "stream",
     "text": [
      "                  date           ipsrc        ipdst proto  portsrc  portdst  \\\n",
      "0  2023-02-12 03:59:03   66.249.69.180  17.17.17.17   TCP  57630.0    443.0   \n",
      "1  2023-02-12 03:59:04   66.249.69.178  17.17.17.17   TCP  63808.0    443.0   \n",
      "2  2023-02-12 03:59:08  221.11.125.141  17.17.17.17   TCP  43123.0   2376.0   \n",
      "3  2023-02-12 03:59:18  183.136.225.42  17.17.17.17   TCP   8088.0     70.0   \n",
      "4  2023-02-12 03:59:20    38.32.112.34  17.17.17.17   TCP   6356.0    443.0   \n",
      "\n",
      "   regle  action interface  numtransp  \n",
      "0    1.0  PERMIT      eth0        6.0  \n",
      "1    1.0  PERMIT      eth0        6.0  \n",
      "2  999.0    DENY      eth0        6.0  \n",
      "3  999.0    DENY      eth0        6.0  \n",
      "4    1.0  PERMIT      eth0        6.0  \n"
     ]
    }
   ],
   "source": [
    "import pandas as pd\n",
    "df = pd.read_csv(\"log_fw_3.csv\",sep=\";\",header=None)\n",
    "df = df.drop(columns=9)\n",
    "colonnes = ['date','ipsrc', 'ipdst','proto','portsrc','portdst','regle','action','interface','numtransp']\n",
    "df.columns = colonnes\n",
    "print(df.head())"
   ]
  },
  {
   "cell_type": "code",
   "execution_count": 2,
   "metadata": {},
   "outputs": [
    {
     "name": "stdout",
     "output_type": "stream",
     "text": [
      "date         0\n",
      "ipsrc        2\n",
      "ipdst        2\n",
      "proto        2\n",
      "portsrc      2\n",
      "portdst      2\n",
      "regle        2\n",
      "action       2\n",
      "interface    2\n",
      "numtransp    2\n",
      "dtype: int64\n"
     ]
    }
   ],
   "source": [
    "''' See if there is missing data '''\n",
    "print(df.isnull().sum())"
   ]
  },
  {
   "cell_type": "code",
   "execution_count": 3,
   "metadata": {},
   "outputs": [],
   "source": [
    "''' Remove the missing data '''\n",
    "df = df.dropna()"
   ]
  },
  {
   "cell_type": "code",
   "execution_count": 11,
   "metadata": {},
   "outputs": [],
   "source": [
    "df[\"date\"]=pd.to_datetime(df[\"date\"],format=\"%Y-%m-%d %H:%M:%S\")\n",
    "\n",
    "\n",
    "df['heure'] = df['date'].dt.hour\n",
    "df[\"jour_semaine\"]=df[\"date\"].dt.dayofweek\n",
    "pd.get_dummies(\"proto\",prefix=\"proto\",drop_first=True)\n",
    "\n",
    "\n",
    "\n",
    "\n",
    "var_selection = [\"heure\", \"jour_semaine\",\"portdst\"]\n",
    "\n",
    "''' Create the X and y variables '''\n",
    "X = df[var_selection]\n",
    "y = df[\"action\"]\n",
    "\n"
   ]
  },
  {
   "cell_type": "code",
   "execution_count": 12,
   "metadata": {},
   "outputs": [],
   "source": [
    "from sklearn.preprocessing import StandardScaler\n",
    "\n",
    "scaler = StandardScaler()\n",
    "log_data_scaled = scaler.fit_transform(X)"
   ]
  },
  {
   "cell_type": "code",
   "execution_count": 17,
   "metadata": {},
   "outputs": [],
   "source": [
    "from sklearn.decomposition import PCA\n",
    "\n",
    "pca = PCA()  # définir le nombre de composantes principales souhaitées\n",
    "pca.fit_transform(log_data_scaled)\n",
    "pcs = pca.components_\n",
    "var_exp = pca.explained_variance_ratio_\n"
   ]
  },
  {
   "cell_type": "code",
   "execution_count": 19,
   "metadata": {},
   "outputs": [
    {
     "ename": "NameError",
     "evalue": "name 'np' is not defined",
     "output_type": "error",
     "traceback": [
      "\u001b[0;31m---------------------------------------------------------------------------\u001b[0m",
      "\u001b[0;31mNameError\u001b[0m                                 Traceback (most recent call last)",
      "\u001b[0;32m/var/folders/tk/dvhbx61110q5yz53l946twqm0000gn/T/ipykernel_8915/575000185.py\u001b[0m in \u001b[0;36m<module>\u001b[0;34m\u001b[0m\n\u001b[1;32m     10\u001b[0m \u001b[0;31m# Ajouter des cercles représentant les variances expliquées\u001b[0m\u001b[0;34m\u001b[0m\u001b[0;34m\u001b[0m\u001b[0m\n\u001b[1;32m     11\u001b[0m \u001b[0;32mfor\u001b[0m \u001b[0mi\u001b[0m\u001b[0;34m,\u001b[0m \u001b[0mvar\u001b[0m \u001b[0;32min\u001b[0m \u001b[0menumerate\u001b[0m\u001b[0;34m(\u001b[0m\u001b[0mvar_exp\u001b[0m\u001b[0;34m)\u001b[0m\u001b[0;34m:\u001b[0m\u001b[0;34m\u001b[0m\u001b[0;34m\u001b[0m\u001b[0m\n\u001b[0;32m---> 12\u001b[0;31m     \u001b[0mcircle\u001b[0m \u001b[0;34m=\u001b[0m \u001b[0mplt\u001b[0m\u001b[0;34m.\u001b[0m\u001b[0mCircle\u001b[0m\u001b[0;34m(\u001b[0m\u001b[0;34m(\u001b[0m\u001b[0;36m0\u001b[0m\u001b[0;34m,\u001b[0m\u001b[0;36m0\u001b[0m\u001b[0;34m)\u001b[0m\u001b[0;34m,\u001b[0m \u001b[0mradius\u001b[0m\u001b[0;34m=\u001b[0m\u001b[0mnp\u001b[0m\u001b[0;34m.\u001b[0m\u001b[0msqrt\u001b[0m\u001b[0;34m(\u001b[0m\u001b[0mvar\u001b[0m\u001b[0;34m)\u001b[0m\u001b[0;34m,\u001b[0m \u001b[0mfill\u001b[0m\u001b[0;34m=\u001b[0m\u001b[0;32mFalse\u001b[0m\u001b[0;34m)\u001b[0m\u001b[0;34m\u001b[0m\u001b[0;34m\u001b[0m\u001b[0m\n\u001b[0m\u001b[1;32m     13\u001b[0m     \u001b[0mplt\u001b[0m\u001b[0;34m.\u001b[0m\u001b[0mgca\u001b[0m\u001b[0;34m(\u001b[0m\u001b[0;34m)\u001b[0m\u001b[0;34m.\u001b[0m\u001b[0madd_artist\u001b[0m\u001b[0;34m(\u001b[0m\u001b[0mcircle\u001b[0m\u001b[0;34m)\u001b[0m\u001b[0;34m\u001b[0m\u001b[0;34m\u001b[0m\u001b[0m\n\u001b[1;32m     14\u001b[0m     \u001b[0mplt\u001b[0m\u001b[0;34m.\u001b[0m\u001b[0mtext\u001b[0m\u001b[0;34m(\u001b[0m\u001b[0;36m0.7\u001b[0m\u001b[0;34m,\u001b[0m \u001b[0;36m0.1\u001b[0m\u001b[0;34m+\u001b[0m\u001b[0mi\u001b[0m\u001b[0;34m*\u001b[0m\u001b[0;36m0.1\u001b[0m\u001b[0;34m,\u001b[0m \u001b[0;34m'Explained variance ratio {}: {:.2f}%'\u001b[0m\u001b[0;34m.\u001b[0m\u001b[0mformat\u001b[0m\u001b[0;34m(\u001b[0m\u001b[0mi\u001b[0m\u001b[0;34m+\u001b[0m\u001b[0;36m1\u001b[0m\u001b[0;34m,\u001b[0m \u001b[0mvar\u001b[0m\u001b[0;34m*\u001b[0m\u001b[0;36m100\u001b[0m\u001b[0;34m)\u001b[0m\u001b[0;34m,\u001b[0m \u001b[0mtransform\u001b[0m\u001b[0;34m=\u001b[0m\u001b[0mplt\u001b[0m\u001b[0;34m.\u001b[0m\u001b[0mgca\u001b[0m\u001b[0;34m(\u001b[0m\u001b[0;34m)\u001b[0m\u001b[0;34m.\u001b[0m\u001b[0mtransAxes\u001b[0m\u001b[0;34m)\u001b[0m\u001b[0;34m\u001b[0m\u001b[0;34m\u001b[0m\u001b[0m\n",
      "\u001b[0;31mNameError\u001b[0m: name 'np' is not defined"
     ]
    },
    {
     "data": {
      "image/png": "[encoded data removed]",
      "text/plain": [
       "<Figure size 640x480 with 1 Axes>"
      ]
     },
     "metadata": {},
     "output_type": "display_data"
    }
   ],
   "source": [
    "import matplotlib.pyplot as plt\n",
    "\n",
    "plt.scatter(pcs[0], pcs[1])\n",
    "# Ajouter les noms des variables à chaque point\n",
    "for i, (x, y) in enumerate(zip(pcs[0], pcs[1])):\n",
    "    plt.text(x, y, X.columns[i], fontsize='10')\n",
    "# Ajouter des lignes représentant les axes\n",
    "plt.plot([0, 0.7], [0, 0], color='black', linewidth=0.5)\n",
    "plt.plot([0, 0], [0, 0.7], color='black', linewidth=0.5)\n",
    "# Ajouter des cercles représentant les variances expliquées\n",
    "for i, var in enumerate(var_exp):\n",
    "    circle = plt.Circle((0,0), radius=np.sqrt(var), fill=False)\n",
    "    plt.gca().add_artist(circle)\n",
    "    plt.text(0.7, 0.1+i*0.1, 'Explained variance ratio {}: {:.2f}%'.format(i+1, var*100), transform=plt.gca().transAxes)\n",
    "# Afficher le graphique\n",
    "plt.show()\n"
   ]
  }
 ],
 "metadata": {
  "kernelspec": {
   "display_name": "base",
   "language": "python",
   "name": "python3"
  },
  "language_info": {
   "codemirror_mode": {
    "name": "ipython",
    "version": 3
   },
   "file_extension": ".py",
   "mimetype": "text/x-python",
   "name": "python",
   "nbconvert_exporter": "python",
   "pygments_lexer": "ipython3",
   "version": "3.9.13"
  },
  "orig_nbformat": 4,
  "vscode": {
   "interpreter": {
    "hash": "40d3a090f54c6569ab1632332b64b2c03c39dcf918b08424e98f38b5ae0af88f"
   }
  }
 },
 "nbformat": 4,
 "nbformat_minor": 2
}
